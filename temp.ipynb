{
 "cells": [
  {
   "cell_type": "code",
   "execution_count": 1,
   "metadata": {},
   "outputs": [
    {
     "data": {
      "text/plain": [
       "<web3.main.Web3 at 0x7f85b4420850>"
      ]
     },
     "execution_count": 1,
     "metadata": {},
     "output_type": "execute_result"
    }
   ],
   "source": [
    "from dotenv import load_dotenv\n",
    "import pytest\n",
    "from web3 import Web3\n",
    "import web3\n",
    "from multicall.call import Call, NOT_A_CONTRACT_REVERT_MESSAGE\n",
    "import os\n",
    "load_dotenv()\n",
    "\n",
    "BLOCK_TO_CHECK = 18_000_000\n",
    "w3 = Web3(Web3.HTTPProvider(os.environ.get(\"ALCHEMY_URL\")))\n",
    "w3"
   ]
  },
  {
   "cell_type": "code",
   "execution_count": 4,
   "metadata": {},
   "outputs": [
    {
     "data": {
      "text/plain": [
       "19797587"
      ]
     },
     "execution_count": 4,
     "metadata": {},
     "output_type": "execute_result"
    }
   ],
   "source": [
    "highest_finalized_block = w3.eth.get_block(block_identifier='finalized', full_transactions=False)['number']\n",
    "# only cache things that have been finalized\n",
    "highest_finalized_block\n"
   ]
  },
  {
   "cell_type": "code",
   "execution_count": 6,
   "metadata": {},
   "outputs": [],
   "source": [
    "from sqlitedict import SqliteDict\n",
    "import sqlite3\n",
    "from multicall.call import Call\n",
    "\n",
    "\n",
    "CACHE_PATH = \"cache_db.sqlite\" # move to .env file. \n",
    "db = SqliteDict(CACHE_PATH)\n",
    "\n",
    "\n",
    "conn = sqlite3.connect(CACHE_PATH)\n",
    "\n",
    "cursor = conn.cursor()\n",
    "\n",
    "# Create the multicallCache table\n",
    "# Ensure callId is a primary key for quick lookups\n",
    "cursor.execute('''\n",
    "CREATE TABLE IF NOT EXISTS multicallCache (\n",
    "    callId TEXT PRIMARY KEY,\n",
    "    success BOOLEAN,\n",
    "    single_function_return_data_bytes BLOB\n",
    ")\n",
    "''')\n",
    "\n",
    "conn.commit()\n",
    "\n",
    "cursor.execute('SELECT * FROM multicallCache WHERE callId = ?', ('exampleCallId',))\n",
    "result = cursor.fetchone()\n",
    "conn.close()\n"
   ]
  },
  {
   "cell_type": "code",
   "execution_count": 8,
   "metadata": {},
   "outputs": [
    {
     "data": {
      "text/plain": [
       "[('unnamed',), ('multicallCache',)]"
      ]
     },
     "execution_count": 8,
     "metadata": {},
     "output_type": "execute_result"
    }
   ],
   "source": [
    "conn = sqlite3.connect(CACHE_PATH)\n",
    "\n",
    "cursor = conn.cursor()\n",
    "cursor.execute(\"SELECT name FROM sqlite_master WHERE type='table'\")\n",
    "tables = cursor.fetchall()\n",
    "conn.close()\n",
    "tables"
   ]
  }
 ],
 "metadata": {
  "kernelspec": {
   "display_name": ".venv",
   "language": "python",
   "name": "python3"
  },
  "language_info": {
   "codemirror_mode": {
    "name": "ipython",
    "version": 3
   },
   "file_extension": ".py",
   "mimetype": "text/x-python",
   "name": "python",
   "nbconvert_exporter": "python",
   "pygments_lexer": "ipython3",
   "version": "3.10.12"
  }
 },
 "nbformat": 4,
 "nbformat_minor": 2
}
